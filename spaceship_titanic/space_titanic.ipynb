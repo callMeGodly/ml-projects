{
 "cells": [
  {
   "cell_type": "code",
   "execution_count": 1,
   "metadata": {},
   "outputs": [],
   "source": [
    "import os\n",
    "import numpy as np\n",
    "import pandas as pd\n",
    "from collections import Counter\n",
    "\n",
    "TITANIC_PATH = os.path.join('dataset')\n",
    "\n",
    "def load_data(filename):\n",
    "    csv_path = os.path.join(TITANIC_PATH, filename)\n",
    "    return pd.read_csv(csv_path)\n",
    "\n",
    "train_data = load_data('train.csv')\n",
    "test_data = load_data('test.csv')\n"
   ]
  },
  {
   "cell_type": "code",
   "execution_count": 2,
   "metadata": {},
   "outputs": [],
   "source": [
    "final_index = test_data['PassengerId']"
   ]
  },
  {
   "cell_type": "code",
   "execution_count": 3,
   "metadata": {},
   "outputs": [],
   "source": [
    "train_labels = train_data['Transported']\n",
    "train_features = train_data.copy()\n"
   ]
  },
  {
   "cell_type": "code",
   "execution_count": 4,
   "metadata": {},
   "outputs": [],
   "source": [
    "from sklearn.impute import SimpleImputer\n",
    "\n",
    "def numericalImputer(features):\n",
    "    num_columns = ['Age', 'RoomService', 'ShoppingMall', 'FoodCourt', 'Spa', 'VRDeck']\n",
    "    num_features = features[num_columns]\n",
    "\n",
    "    imputer = SimpleImputer(strategy='median')\n",
    "    X = imputer.fit_transform(num_features)\n",
    "    num_features = pd.DataFrame(X, columns=num_columns, index=num_features.index)\n",
    "    total_expense = num_features['RoomService'] + num_features['ShoppingMall'] + num_features['FoodCourt'] + num_features['Spa'] + num_features['VRDeck']\n",
    "    features.insert(0, 'expense', total_expense)\n",
    "\n",
    "    for i in num_columns:\n",
    "        del features[i]\n",
    "        features.insert(0, i, num_features[i])\n",
    "\n"
   ]
  },
  {
   "cell_type": "code",
   "execution_count": 5,
   "metadata": {},
   "outputs": [],
   "source": [
    "# from the passengerID we can see what group the passenger belongs to, then can fill the null values for Home Planet and Destination\n",
    "    #DONE, sorted the Home Planet by the group and Destination by Home Planet and whether the person was in cyro.\n",
    "# can use the amount the peron used to fill VIP or in which group\n",
    "    #DONE\n",
    "# cryosleep can be determined how much they use\n",
    "    #DONE, if expense is 0 then assume they are True, else False\n",
    "# cabin can be determined from the group they reside in\n",
    "# name prob just drop for now"
   ]
  },
  {
   "cell_type": "code",
   "execution_count": 6,
   "metadata": {},
   "outputs": [],
   "source": [
    "def isCryo(features):\n",
    "    indices = np.where(features['expense'] == 0)[0]\n",
    "    X = features.copy()\n",
    "    for i in indices:\n",
    "        if pd.isnull(X.loc[i, 'CryoSleep']):\n",
    "            X.loc[i,'CryoSleep'] = True\n",
    "\n",
    "    X['CryoSleep'].fillna(value = False, inplace=True)\n",
    "\n",
    "    return X"
   ]
  },
  {
   "cell_type": "code",
   "execution_count": 7,
   "metadata": {},
   "outputs": [],
   "source": [
    "def fillVip(features):\n",
    "    X = features.copy()\n",
    "\n",
    "    money = ['RoomService', 'ShoppingMall', 'FoodCourt', 'Spa', 'VRDeck']\n",
    "    storage = pd.DataFrame(columns=money)\n",
    "    e = []\n",
    "    change = []\n",
    "    for i in range(len(features)):\n",
    "        if pd.isnull(X.loc[i, 'VIP']):\n",
    "            change.append(i)\n",
    "        elif X.loc[i,'VIP']:\n",
    "            e.append(X.loc[i,'expense'])\n",
    "            add = [X.loc[i,x] for x in money]\n",
    "            storage.loc[-1] = add\n",
    "            storage.index = storage.index + 1\n",
    "            storage = storage.sort_index()\n",
    "\n",
    "\n",
    "    decision = np.mean(e)\n",
    "    expensive_food = storage['FoodCourt'].mean()\n",
    "    expensive_VR = storage['VRDeck'].mean()\n",
    "    expensive_Spa = storage['Spa'].mean()\n",
    "    for i in change:\n",
    "        if X.loc[i, 'expense'] >= decision:\n",
    "            X.loc[i, 'VIP'] = True\n",
    "        elif X.loc[i, 'CryoSleep']:\n",
    "            X.loc[i, 'VIP'] = False\n",
    "        elif X.loc[i, 'FoodCourt'] > expensive_food:\n",
    "            X.loc[i, 'VIP'] = True\n",
    "        elif X.loc[i, 'VRDeck'] > expensive_VR:\n",
    "            X.loc[i,'VIP'] = True\n",
    "        elif X.loc[i, 'Spa'] > expensive_Spa:\n",
    "            X.loc[i,'VIP'] = True\n",
    "        else:\n",
    "            X.loc[i, 'VIP'] = False\n",
    "        \n",
    "        \n",
    "    \n",
    "    return X"
   ]
  },
  {
   "cell_type": "code",
   "execution_count": 8,
   "metadata": {},
   "outputs": [],
   "source": [
    "import re\n",
    "\n",
    "def separateId(features):\n",
    "    alone = np.zeros(len(features), dtype='int16')\n",
    "    group = np.zeros(len(features), dtype='int16')\n",
    "    idx = 0\n",
    "    for info in features['PassengerId']:\n",
    "        identification = re.split('_', info)\n",
    "        group[idx] = int(identification[0])\n",
    "        if int(identification[1]) == 1:\n",
    "            alone[idx] = 1\n",
    "        idx += 1\n",
    "    \n",
    "    features.insert(0,'group',group.tolist())\n",
    "    features.insert(1, 'alone', alone.tolist())\n",
    "    del features['PassengerId']"
   ]
  },
  {
   "cell_type": "code",
   "execution_count": 9,
   "metadata": {},
   "outputs": [],
   "source": [
    "def separateCabin(features):\n",
    "    deck = []\n",
    "    num = []\n",
    "    side = []\n",
    "    for info in features['Cabin']:\n",
    "        if pd.notnull(info):\n",
    "            cabin = re.split('/', info)\n",
    "            deck.append(cabin[0])\n",
    "            num.append(int(cabin[1]))\n",
    "            if(cabin[2] == 'S'):\n",
    "                side.append(1)\n",
    "            else:\n",
    "                side.append(0)\n",
    "        else:\n",
    "            deck.append(None)\n",
    "            num.append(None)\n",
    "            side.append(None)\n",
    "    features.insert(0, 'deck', deck)\n",
    "    features.insert(1, 'num', num)\n",
    "    features.insert(2, 'side', side)\n",
    "    del features['Cabin']"
   ]
  },
  {
   "cell_type": "code",
   "execution_count": 10,
   "metadata": {},
   "outputs": [],
   "source": [
    "def homeGuess(features, i):\n",
    "    destination = features.loc[i, 'Destination']\n",
    "    cyro = features.loc[i, 'CryoSleep']\n",
    "\n",
    "    if pd.notnull(features.loc[i, 'deck']) and pd.isnull(features.loc[i, 'HomePlanet']):\n",
    "        if features.loc[i, 'deck'] == 'G':\n",
    "            return 'Earth'\n",
    "        elif features.loc[i, 'deck'] == 'B' or features.loc[i, 'deck'] == 'C' or features.loc[i, 'deck'] == 'A':\n",
    "            return 'Europa'\n",
    "    elif pd.notnull(destination) and pd.notnull(cyro):\n",
    "        if destination == 'TRAPPIST-1e' and not cyro:\n",
    "            return 'Earth'\n",
    "        elif destination == '55 Cancri e' and not cyro:\n",
    "            return 'Earth'\n",
    "        elif destination == 'PSO J318.5-22' and not cyro:\n",
    "            return 'Mars'\n",
    "        elif destination == 'TRAPPIST-1e' and cyro:\n",
    "            return 'Mars'\n",
    "        elif destination == '55 Cancri e' and cyro:\n",
    "            return 'Europa'\n",
    "        elif destination == 'PSO J318.5-22' and cyro:\n",
    "            return 'Earth'\n",
    "    \n",
    "    return 'Earth'\n",
    "\n",
    "def destinationGuess(features, i):\n",
    "    home = features.loc[i, 'HomePlanet']\n",
    "    cyro = features.loc[i, 'CryoSleep']\n",
    "    if pd.notnull(features.loc[i,'deck']):\n",
    "        if features.loc[i, 'deck'] == 'F'or features.loc[i, 'deck'] == 'E':\n",
    "            return 'TRAPPIST-1e'\n",
    "    elif pd.notnull(home) and pd.notnull(cyro):\n",
    "        if home == 'Earth' and not cyro:\n",
    "            return 'TRAPPIST-1e'\n",
    "        elif home == 'Mars' and not cyro:\n",
    "            return 'PSO J318.5-22'\n",
    "        elif home == 'Europa' and not cyro:\n",
    "            return 'TRAPPIST-1e'\n",
    "        elif home == 'Earth' and cyro:\n",
    "            return 'PSO J318.5-22'\n",
    "        elif home == 'Mars' and cyro:\n",
    "            return '55 Cancri e'\n",
    "        elif home == 'Europa' and cyro:\n",
    "            return '55 Cancri e'\n",
    "    \n",
    "    return 'TRAPPIST-1e'\n"
   ]
  },
  {
   "cell_type": "code",
   "execution_count": 11,
   "metadata": {},
   "outputs": [],
   "source": [
    "\n",
    "def findHomeDestination(features):\n",
    "    X = features.copy()\n",
    "    info1 = {}\n",
    "    info2 = {}\n",
    "    change1 = []\n",
    "    change2 = []\n",
    "    home = ['Earth', 'Europa', 'Mars']\n",
    "    dest = ['TRAPPIST-1e', '55 Cancri e', 'PSO J318.5-22']\n",
    "    for i in range(len(features)):\n",
    "        if(pd.notnull(X.loc[i, 'HomePlanet'])):\n",
    "            if(X['group'][i] in info1):\n",
    "                if X.loc[i, 'HomePlanet'] == 'Earth':\n",
    "                    info1[X['group'][i]][0] += 1\n",
    "                elif X.loc[i, 'HomePlanet'] == 'Europa':\n",
    "                    info1[X['group'][i]][1] += 1\n",
    "                else:\n",
    "                    info1[X['group'][i]][2] += 1\n",
    "            else:\n",
    "                info1[X['group'][i]] = [0,0,0]\n",
    "                if X.loc[i, 'HomePlanet'] == 'Earth':\n",
    "                    info1[X['group'][i]][0] += 1\n",
    "                elif X.loc[i, 'HomePlanet'] == 'Europa':\n",
    "                    info1[X['group'][i]][1] += 1\n",
    "                else:\n",
    "                    info1[X['group'][i]][2] += 1\n",
    "        else:\n",
    "            change1.append(i)\n",
    "\n",
    "        if(pd.notnull(X.loc[i, 'Destination'])):\n",
    "            if(X.loc[i, 'Destination'] in info2):\n",
    "                if X.loc[i, 'Destination'] == 'TRAPPIST-1e':\n",
    "                    info2[X['group'][i]][0] += 1\n",
    "                elif X.loc[i, 'Destination'] == '55 Cancri e':\n",
    "                    info2[X['group'][i]][1] += 1\n",
    "                else:\n",
    "                    info2[X['group'][i]][2] += 1\n",
    "            else:\n",
    "                info2[X['group'][i]] = [0,0,0]\n",
    "                if X.loc[i, 'Destination'] == 'TRAPPIST-1e':\n",
    "                    info2[X['group'][i]][0] += 1\n",
    "                elif X.loc[i, 'Destination'] == '55 Cancri e':\n",
    "                    info2[X['group'][i]][1] += 1\n",
    "                else:\n",
    "                    info2[X['group'][i]][2] += 1\n",
    "        else:\n",
    "            change2.append(i)\n",
    " \n",
    "\n",
    "    for i in change1:\n",
    "        if X['group'][i] in info1:\n",
    "            y1 = info1[X['group'][i]]\n",
    "            X.loc[i, 'HomePlanet'] = home[y1.index(max(y1))]\n",
    "        else:\n",
    "            retval = homeGuess(X, i)\n",
    "            if retval in home:\n",
    "                X.loc[i, 'HomePlanet'] = retval\n",
    "\n",
    "    for i in change2:\n",
    "        if X['group'][i] in info2:\n",
    "            y2 = info2[X['group'][i]]\n",
    "            X.loc[i, 'Destination'] = dest[y2.index(max(y2))]\n",
    "        else:\n",
    "            X.loc[i, 'Destination'] = destinationGuess(X, i)\n",
    "\n",
    "    return X\n"
   ]
  },
  {
   "cell_type": "code",
   "execution_count": 12,
   "metadata": {},
   "outputs": [],
   "source": [
    "# m = ['true' if x else 'false' for x in cat_features['CryoSleep']]\n",
    "\n",
    "# m = np.array(m)\n",
    "\n",
    "# newCol = Counter(g1_features['HomePlanet'] + g1_features['Destination'] + m)\n",
    "# print(newCol)\n",
    "\n",
    "# print(newCol['EarthTRAPPIST-1efalse'] / (newCol['EarthTRAPPIST-1efalse'] + newCol['EarthTRAPPIST-1etrue']))\n",
    "# print(newCol['MarsTRAPPIST-1efalse'] / (newCol['MarsTRAPPIST-1efalse'] + newCol['MarsTRAPPIST-1etrue']))\n",
    "# print(newCol['EuropaTRAPPIST-1efalse']/ (newCol['EuropaTRAPPIST-1efalse'] + newCol['EuropaTRAPPIST-1etrue']))\n",
    "# print(newCol['Earth55 Cancri efalse']/ (newCol['Earth55 Cancri efalse'] + newCol['Earth55 Cancri etrue']))\n",
    "# print(newCol['Mars55 Cancri efalse'] / (newCol['Mars55 Cancri efalse'] + newCol['Mars55 Cancri etrue']))\n",
    "# print(newCol['Europa55 Cancri efalse']/ (newCol['Europa55 Cancri etrue'] + newCol['Europa55 Cancri efalse']))\n",
    "# print(newCol['EarthPSO J318.5-22false']/ (newCol['EarthPSO J318.5-22true'] + newCol['EarthPSO J318.5-22false']))\n",
    "# print(newCol['MarsPSO J318.5-22false']/ (newCol['MarsPSO J318.5-22false'] + newCol['MarsPSO J318.5-22true']))\n",
    "# print(newCol['EuropaPSO J318.5-22false']/ (newCol['EuropaPSO J318.5-22false'] + newCol['EuropaPSO J318.5-22true']))"
   ]
  },
  {
   "cell_type": "code",
   "execution_count": 13,
   "metadata": {},
   "outputs": [],
   "source": [
    "\n",
    "def convertBool(features):\n",
    "    result = features['CryoSleep'].astype(int)\n",
    "    features['CryoSleep'] = result\n",
    "    result = features['VIP'].astype(int)\n",
    "    features['VIP'] = result"
   ]
  },
  {
   "cell_type": "code",
   "execution_count": 14,
   "metadata": {},
   "outputs": [],
   "source": [
    "import random\n",
    "\n",
    "def fillDeckSide(features):\n",
    "\n",
    "    decks = ['A', 'B', 'C', 'D', 'E', 'F', 'G']\n",
    "\n",
    "    for i in range(len(features)):\n",
    "        if pd.isnull(features.loc[i,'side']):\n",
    "            features.loc[i, 'side'] = random.randint(0,1)\n",
    "        if pd.isnull(features.loc[i, 'deck']):\n",
    "            selection = random.randint(0,6)\n",
    "            features.loc[i, 'deck'] = decks[selection]"
   ]
  },
  {
   "cell_type": "code",
   "execution_count": 15,
   "metadata": {},
   "outputs": [],
   "source": [
    "def makeRich(features):\n",
    "    features['Rich'] = features['Spa'] + features['VRDeck'] + features['RoomService']"
   ]
  },
  {
   "cell_type": "code",
   "execution_count": 16,
   "metadata": {},
   "outputs": [],
   "source": [
    "def isExpense(features):\n",
    "\n",
    "    l = []\n",
    "    l2 = []\n",
    "    decision = features['expense'].mean()\n",
    "    for i in range(len(features)):\n",
    "        if features.loc[i, 'Rich'] > decision:\n",
    "            l.append(1)\n",
    "        else:\n",
    "            l.append(0)\n",
    "        if features.loc[i, 'Rich'] == 0 and not features.loc[i,'CryoSleep']:\n",
    "            l2.append(1)\n",
    "        else:\n",
    "            l2.append(0)\n",
    "    \n",
    "    features['isExpense'] = l\n",
    "    features['noSpending'] = l2"
   ]
  },
  {
   "cell_type": "code",
   "execution_count": 17,
   "metadata": {},
   "outputs": [],
   "source": [
    "def getRoute(features):\n",
    "    features['Route'] = features['HomePlanet'] + features['Destination'] + features['CryoSleep'].astype(str)"
   ]
  },
  {
   "cell_type": "code",
   "execution_count": 18,
   "metadata": {},
   "outputs": [],
   "source": [
    "from sklearn.base import BaseEstimator, TransformerMixin\n",
    "\n",
    "class dataFiller(BaseEstimator, TransformerMixin):\n",
    "    def __init__ (self):\n",
    "        pass\n",
    "    def fit(self, X, y=None):\n",
    "        return self\n",
    "    def transform(self, X):\n",
    "        numericalImputer(X)\n",
    "        X = isCryo(X)\n",
    "        X = fillVip(X)\n",
    "        separateId(X)\n",
    "        separateCabin(X)\n",
    "        X = findHomeDestination(X)\n",
    "        getRoute(X)\n",
    "        makeRich(X)\n",
    "        isExpense(X)\n",
    "        convertBool(X)\n",
    "        fillDeckSide(X)\n",
    "        del X['num']\n",
    "        del X['Name']\n",
    "        return X"
   ]
  },
  {
   "cell_type": "code",
   "execution_count": 19,
   "metadata": {},
   "outputs": [
    {
     "name": "stdout",
     "output_type": "stream",
     "text": [
      "<class 'pandas.core.frame.DataFrame'>\n",
      "RangeIndex: 8693 entries, 0 to 8692\n",
      "Data columns (total 20 columns):\n",
      " #   Column        Non-Null Count  Dtype  \n",
      "---  ------        --------------  -----  \n",
      " 0   deck          8693 non-null   object \n",
      " 1   side          8693 non-null   float64\n",
      " 2   group         8693 non-null   int64  \n",
      " 3   alone         8693 non-null   int64  \n",
      " 4   VRDeck        8693 non-null   float64\n",
      " 5   Spa           8693 non-null   float64\n",
      " 6   FoodCourt     8693 non-null   float64\n",
      " 7   ShoppingMall  8693 non-null   float64\n",
      " 8   RoomService   8693 non-null   float64\n",
      " 9   Age           8693 non-null   float64\n",
      " 10  expense       8693 non-null   float64\n",
      " 11  HomePlanet    8693 non-null   object \n",
      " 12  CryoSleep     8693 non-null   int64  \n",
      " 13  Destination   8693 non-null   object \n",
      " 14  VIP           8693 non-null   int64  \n",
      " 15  Transported   8693 non-null   bool   \n",
      " 16  Route         8693 non-null   object \n",
      " 17  Rich          8693 non-null   float64\n",
      " 18  isExpense     8693 non-null   int64  \n",
      " 19  noSpending    8693 non-null   int64  \n",
      "dtypes: bool(1), float64(9), int64(6), object(4)\n",
      "memory usage: 1.3+ MB\n",
      "None\n"
     ]
    }
   ],
   "source": [
    "n = dataFiller()\n",
    "train_features = n.transform(train_features)\n",
    "print(train_features.info())"
   ]
  },
  {
   "cell_type": "code",
   "execution_count": 20,
   "metadata": {},
   "outputs": [],
   "source": [
    "model1 = train_features.copy()"
   ]
  },
  {
   "cell_type": "code",
   "execution_count": 21,
   "metadata": {},
   "outputs": [],
   "source": [
    "# del model1['expense']\n",
    "# del model1['ShoppingMall']\n",
    "# # del model1['group']\n",
    "# del model1['FoodCourt']\n",
    "# del model1['deck']"
   ]
  },
  {
   "cell_type": "code",
   "execution_count": 22,
   "metadata": {},
   "outputs": [
    {
     "name": "stdout",
     "output_type": "stream",
     "text": [
      "CryoSleep       1.000000\n",
      "Transported     0.467230\n",
      "side            0.017489\n",
      "group          -0.004304\n",
      "Age            -0.077806\n",
      "alone          -0.081778\n",
      "VIP            -0.093149\n",
      "VRDeck         -0.197524\n",
      "Spa            -0.203249\n",
      "FoodCourt      -0.211061\n",
      "ShoppingMall   -0.212977\n",
      "noSpending     -0.226033\n",
      "RoomService    -0.250173\n",
      "isExpense      -0.319055\n",
      "Rich           -0.337554\n",
      "expense        -0.386081\n",
      "Name: CryoSleep, dtype: float64\n"
     ]
    }
   ],
   "source": [
    "c = model1.corr()\n",
    "print(c['CryoSleep'].sort_values(ascending=False))"
   ]
  },
  {
   "cell_type": "code",
   "execution_count": 23,
   "metadata": {},
   "outputs": [],
   "source": [
    "from sklearn.pipeline import Pipeline\n",
    "from sklearn.preprocessing import StandardScaler\n",
    "from sklearn.compose import ColumnTransformer\n",
    "from sklearn.preprocessing import OneHotEncoder\n",
    "from sklearn.preprocessing import PolynomialFeatures\n",
    "\n",
    "num_attribute = ['Rich', 'expense', 'group']\n",
    "cat_attribute = ['HomePlanet', 'Route', 'isExpense', 'CryoSleep', 'noSpending', 'side']\n",
    "\n",
    "num_pipeline = Pipeline([\n",
    "    ('std_scaler', StandardScaler())\n",
    "])\n",
    "\n",
    "full_pipeline = ColumnTransformer([\n",
    "    ('num', num_pipeline, num_attribute),\n",
    "    ('cat', OneHotEncoder(), cat_attribute)\n",
    "])\n"
   ]
  },
  {
   "cell_type": "code",
   "execution_count": 24,
   "metadata": {},
   "outputs": [
    {
     "name": "stdout",
     "output_type": "stream",
     "text": [
      "Counter({True: 4378, False: 4315})\n"
     ]
    }
   ],
   "source": [
    "print(Counter(model1['Transported']))"
   ]
  },
  {
   "cell_type": "code",
   "execution_count": 25,
   "metadata": {},
   "outputs": [],
   "source": [
    "model_prepared = full_pipeline.fit_transform(model1)"
   ]
  },
  {
   "cell_type": "code",
   "execution_count": 26,
   "metadata": {},
   "outputs": [],
   "source": [
    "# model_dataFrame = pd.DataFrame(model_prepared, columns=[i for i in range(16)])"
   ]
  },
  {
   "cell_type": "code",
   "execution_count": 27,
   "metadata": {},
   "outputs": [],
   "source": [
    "# model_dataFrame.describe()"
   ]
  },
  {
   "cell_type": "code",
   "execution_count": 28,
   "metadata": {},
   "outputs": [],
   "source": [
    "from sklearn.model_selection import cross_val_score\n",
    "from sklearn.svm import SVC\n",
    "from sklearn.model_selection import GridSearchCV\n",
    "from sklearn.ensemble import RandomForestClassifier\n",
    "from sklearn.svm import LinearSVC\n",
    "from sklearn.ensemble import GradientBoostingClassifier\n",
    "\n",
    "test_poly = [i for i in range(3,6)]\n",
    "test_c = [0.5, 0.7, 1]\n",
    "\n",
    "params = [\n",
    "    {\"kernel\": [\"rbf\"], \"C\": test_c}\n",
    "]\n",
    "# params2 = [\n",
    "#     {\"weights\" : ['uniform', 'distance'], \"n_neighbors\" : [3,4,5,6]}\n",
    "# ]\n",
    "# params3 = [\n",
    "#     # try 12 (3×4) combinations of hyperparameters\n",
    "#     {'n_estimators': [50, 75, 100, 125, 150], 'max_features': [4,5,6,7]},\n",
    "#     # then try 6 (2×3) combinations with bootstrap set as False\n",
    "#     {'bootstrap': [False], 'n_estimators': [50, 75, 100, 125, 150], 'max_features': [4,5,6,7]},\n",
    "# ]\n",
    "params4 =[\n",
    "    {'penalty' : ['l2'], 'max_iter' : [300, 400, 625, 1000, 1500, 2000, 2500], 'C' : [0.05, 0.07, 0.09, 0.1, 0.2, 0.3, 0.4], 'dual': [False]}\n",
    "]\n",
    "\n",
    "# gnb = GaussianNB()\n",
    "svc_clf = SVC()\n",
    "linear = LinearSVC()\n",
    "# knn = KNeighborsClassifier()\n",
    "rf = RandomForestClassifier()\n",
    "# dt = DecisionTreeClassifier()\n"
   ]
  },
  {
   "cell_type": "code",
   "execution_count": 29,
   "metadata": {},
   "outputs": [],
   "source": [
    "# grid_search = GridSearchCV(boost, param_grid=params, cv=10)\n",
    "grid_search2 = GridSearchCV(svc_clf, param_grid=params, cv=10)\n",
    "# grid_search3 = GridSearchCV(rf, param_grid=params3, cv=10)\n",
    "grid_search4 = GridSearchCV(linear, param_grid=params4, cv=10)"
   ]
  },
  {
   "cell_type": "code",
   "execution_count": 30,
   "metadata": {},
   "outputs": [
    {
     "data": {
      "text/html": [
       "<style>#sk-container-id-1 {color: black;background-color: white;}#sk-container-id-1 pre{padding: 0;}#sk-container-id-1 div.sk-toggleable {background-color: white;}#sk-container-id-1 label.sk-toggleable__label {cursor: pointer;display: block;width: 100%;margin-bottom: 0;padding: 0.3em;box-sizing: border-box;text-align: center;}#sk-container-id-1 label.sk-toggleable__label-arrow:before {content: \"▸\";float: left;margin-right: 0.25em;color: #696969;}#sk-container-id-1 label.sk-toggleable__label-arrow:hover:before {color: black;}#sk-container-id-1 div.sk-estimator:hover label.sk-toggleable__label-arrow:before {color: black;}#sk-container-id-1 div.sk-toggleable__content {max-height: 0;max-width: 0;overflow: hidden;text-align: left;background-color: #f0f8ff;}#sk-container-id-1 div.sk-toggleable__content pre {margin: 0.2em;color: black;border-radius: 0.25em;background-color: #f0f8ff;}#sk-container-id-1 input.sk-toggleable__control:checked~div.sk-toggleable__content {max-height: 200px;max-width: 100%;overflow: auto;}#sk-container-id-1 input.sk-toggleable__control:checked~label.sk-toggleable__label-arrow:before {content: \"▾\";}#sk-container-id-1 div.sk-estimator input.sk-toggleable__control:checked~label.sk-toggleable__label {background-color: #d4ebff;}#sk-container-id-1 div.sk-label input.sk-toggleable__control:checked~label.sk-toggleable__label {background-color: #d4ebff;}#sk-container-id-1 input.sk-hidden--visually {border: 0;clip: rect(1px 1px 1px 1px);clip: rect(1px, 1px, 1px, 1px);height: 1px;margin: -1px;overflow: hidden;padding: 0;position: absolute;width: 1px;}#sk-container-id-1 div.sk-estimator {font-family: monospace;background-color: #f0f8ff;border: 1px dotted black;border-radius: 0.25em;box-sizing: border-box;margin-bottom: 0.5em;}#sk-container-id-1 div.sk-estimator:hover {background-color: #d4ebff;}#sk-container-id-1 div.sk-parallel-item::after {content: \"\";width: 100%;border-bottom: 1px solid gray;flex-grow: 1;}#sk-container-id-1 div.sk-label:hover label.sk-toggleable__label {background-color: #d4ebff;}#sk-container-id-1 div.sk-serial::before {content: \"\";position: absolute;border-left: 1px solid gray;box-sizing: border-box;top: 0;bottom: 0;left: 50%;z-index: 0;}#sk-container-id-1 div.sk-serial {display: flex;flex-direction: column;align-items: center;background-color: white;padding-right: 0.2em;padding-left: 0.2em;position: relative;}#sk-container-id-1 div.sk-item {position: relative;z-index: 1;}#sk-container-id-1 div.sk-parallel {display: flex;align-items: stretch;justify-content: center;background-color: white;position: relative;}#sk-container-id-1 div.sk-item::before, #sk-container-id-1 div.sk-parallel-item::before {content: \"\";position: absolute;border-left: 1px solid gray;box-sizing: border-box;top: 0;bottom: 0;left: 50%;z-index: -1;}#sk-container-id-1 div.sk-parallel-item {display: flex;flex-direction: column;z-index: 1;position: relative;background-color: white;}#sk-container-id-1 div.sk-parallel-item:first-child::after {align-self: flex-end;width: 50%;}#sk-container-id-1 div.sk-parallel-item:last-child::after {align-self: flex-start;width: 50%;}#sk-container-id-1 div.sk-parallel-item:only-child::after {width: 0;}#sk-container-id-1 div.sk-dashed-wrapped {border: 1px dashed gray;margin: 0 0.4em 0.5em 0.4em;box-sizing: border-box;padding-bottom: 0.4em;background-color: white;}#sk-container-id-1 div.sk-label label {font-family: monospace;font-weight: bold;display: inline-block;line-height: 1.2em;}#sk-container-id-1 div.sk-label-container {text-align: center;}#sk-container-id-1 div.sk-container {/* jupyter's `normalize.less` sets `[hidden] { display: none; }` but bootstrap.min.css set `[hidden] { display: none !important; }` so we also need the `!important` here to be able to override the default hidden behavior on the sphinx rendered scikit-learn.org. See: https://github.com/scikit-learn/scikit-learn/issues/21755 */display: inline-block !important;position: relative;}#sk-container-id-1 div.sk-text-repr-fallback {display: none;}</style><div id=\"sk-container-id-1\" class=\"sk-top-container\"><div class=\"sk-text-repr-fallback\"><pre>GridSearchCV(cv=10, estimator=LinearSVC(),\n",
       "             param_grid=[{&#x27;C&#x27;: [0.05, 0.07, 0.09, 0.1, 0.2, 0.3, 0.4],\n",
       "                          &#x27;dual&#x27;: [False],\n",
       "                          &#x27;max_iter&#x27;: [300, 400, 625, 1000, 1500, 2000, 2500],\n",
       "                          &#x27;penalty&#x27;: [&#x27;l2&#x27;]}])</pre><b>In a Jupyter environment, please rerun this cell to show the HTML representation or trust the notebook. <br />On GitHub, the HTML representation is unable to render, please try loading this page with nbviewer.org.</b></div><div class=\"sk-container\" hidden><div class=\"sk-item sk-dashed-wrapped\"><div class=\"sk-label-container\"><div class=\"sk-label sk-toggleable\"><input class=\"sk-toggleable__control sk-hidden--visually\" id=\"sk-estimator-id-1\" type=\"checkbox\" ><label for=\"sk-estimator-id-1\" class=\"sk-toggleable__label sk-toggleable__label-arrow\">GridSearchCV</label><div class=\"sk-toggleable__content\"><pre>GridSearchCV(cv=10, estimator=LinearSVC(),\n",
       "             param_grid=[{&#x27;C&#x27;: [0.05, 0.07, 0.09, 0.1, 0.2, 0.3, 0.4],\n",
       "                          &#x27;dual&#x27;: [False],\n",
       "                          &#x27;max_iter&#x27;: [300, 400, 625, 1000, 1500, 2000, 2500],\n",
       "                          &#x27;penalty&#x27;: [&#x27;l2&#x27;]}])</pre></div></div></div><div class=\"sk-parallel\"><div class=\"sk-parallel-item\"><div class=\"sk-item\"><div class=\"sk-label-container\"><div class=\"sk-label sk-toggleable\"><input class=\"sk-toggleable__control sk-hidden--visually\" id=\"sk-estimator-id-2\" type=\"checkbox\" ><label for=\"sk-estimator-id-2\" class=\"sk-toggleable__label sk-toggleable__label-arrow\">estimator: LinearSVC</label><div class=\"sk-toggleable__content\"><pre>LinearSVC()</pre></div></div></div><div class=\"sk-serial\"><div class=\"sk-item\"><div class=\"sk-estimator sk-toggleable\"><input class=\"sk-toggleable__control sk-hidden--visually\" id=\"sk-estimator-id-3\" type=\"checkbox\" ><label for=\"sk-estimator-id-3\" class=\"sk-toggleable__label sk-toggleable__label-arrow\">LinearSVC</label><div class=\"sk-toggleable__content\"><pre>LinearSVC()</pre></div></div></div></div></div></div></div></div></div></div>"
      ],
      "text/plain": [
       "GridSearchCV(cv=10, estimator=LinearSVC(),\n",
       "             param_grid=[{'C': [0.05, 0.07, 0.09, 0.1, 0.2, 0.3, 0.4],\n",
       "                          'dual': [False],\n",
       "                          'max_iter': [300, 400, 625, 1000, 1500, 2000, 2500],\n",
       "                          'penalty': ['l2']}])"
      ]
     },
     "execution_count": 30,
     "metadata": {},
     "output_type": "execute_result"
    }
   ],
   "source": [
    "# grid_search.fit(model_prepared, train_labels)\n",
    "grid_search2.fit(model_prepared, train_labels)\n",
    "# grid_search3.fit(model_prepared, train_labels)\n",
    "grid_search4.fit(model_prepared, train_labels)"
   ]
  },
  {
   "cell_type": "code",
   "execution_count": 31,
   "metadata": {},
   "outputs": [
    {
     "data": {
      "text/plain": [
       "{'C': 1, 'kernel': 'rbf'}"
      ]
     },
     "execution_count": 31,
     "metadata": {},
     "output_type": "execute_result"
    }
   ],
   "source": [
    "grid_search2.best_params_"
   ]
  },
  {
   "cell_type": "code",
   "execution_count": 32,
   "metadata": {},
   "outputs": [
    {
     "data": {
      "text/plain": [
       "{'C': 0.3, 'dual': False, 'max_iter': 300, 'penalty': 'l2'}"
      ]
     },
     "execution_count": 32,
     "metadata": {},
     "output_type": "execute_result"
    }
   ],
   "source": [
    "grid_search4.best_params_"
   ]
  },
  {
   "cell_type": "code",
   "execution_count": 33,
   "metadata": {},
   "outputs": [
    {
     "name": "stdout",
     "output_type": "stream",
     "text": [
      "0.7912178088171105\n",
      "0.7919054799412721\n"
     ]
    }
   ],
   "source": [
    "svm_clf = SVC(**grid_search2.best_params_)\n",
    "# # knn = KNeighborsClassifier(**grid_search2.best_params_)\n",
    "# rf = RandomForestClassifier(**grid_search3.best_params_)\n",
    "linear = LinearSVC(**grid_search4.best_params_)\n",
    "# boost = GradientBoostingClassifier(**grid_search.best_params_)\n",
    "\n",
    "# forest_score = cross_val_score(rf, model_prepared, train_labels, cv=10)\n",
    "linear_score = cross_val_score(linear, model_prepared, train_labels, cv=10)\n",
    "svm_scores = cross_val_score(svm_clf, model_prepared, train_labels, cv=10)\n",
    "# knn_scores = cross_val_score(knn, model_prepared, train_labels, cv=10)\n",
    "# gnb_scores = cross_val_score(gnb, model_prepared, train_labels, cv=10)\n",
    "# boost_score = cross_val_score(boost, model_prepared, train_labels, cv=10)\n",
    "\n",
    "print(svm_scores.mean())\n",
    "# print(knn_scores.mean())\n",
    "# print(gnb_scores.mean())\n",
    "print(linear_score.mean())\n",
    "# print(forest_score.mean())\n",
    "# print(boost_score.mean())"
   ]
  },
  {
   "cell_type": "code",
   "execution_count": 34,
   "metadata": {},
   "outputs": [],
   "source": [
    "from sklearn.model_selection import cross_val_predict\n",
    "\n",
    "svm_pred = cross_val_predict(svm_clf, model_prepared, train_labels, cv=5)\n",
    "# rf_pred = cross_val_predict(rf, model_prepared, train_labels, cv=5)\n",
    "linear_pred = cross_val_predict(linear, model_prepared, train_labels, cv=5)"
   ]
  },
  {
   "cell_type": "code",
   "execution_count": 35,
   "metadata": {},
   "outputs": [
    {
     "data": {
      "text/plain": [
       "array([[3483,  832],\n",
       "       [ 986, 3392]])"
      ]
     },
     "execution_count": 35,
     "metadata": {},
     "output_type": "execute_result"
    }
   ],
   "source": [
    "from sklearn.metrics import confusion_matrix\n",
    "confusion_matrix(train_labels, svm_pred)"
   ]
  },
  {
   "cell_type": "code",
   "execution_count": 36,
   "metadata": {},
   "outputs": [],
   "source": [
    "# confusion_matrix(train_labels, rf_pred)"
   ]
  },
  {
   "cell_type": "code",
   "execution_count": 37,
   "metadata": {},
   "outputs": [
    {
     "data": {
      "text/plain": [
       "array([[3228, 1087],\n",
       "       [ 751, 3627]])"
      ]
     },
     "execution_count": 37,
     "metadata": {},
     "output_type": "execute_result"
    }
   ],
   "source": [
    "confusion_matrix(train_labels, linear_pred)"
   ]
  },
  {
   "cell_type": "code",
   "execution_count": 38,
   "metadata": {},
   "outputs": [
    {
     "name": "stdout",
     "output_type": "stream",
     "text": [
      "0.803030303030303\n",
      "0.7747830059387848\n",
      "0.7886538014415252\n"
     ]
    }
   ],
   "source": [
    "from sklearn.metrics import precision_score, recall_score, f1_score\n",
    "print(precision_score(train_labels, svm_pred))\n",
    "print(recall_score(train_labels, svm_pred))\n",
    "print(f1_score(train_labels, svm_pred))\n"
   ]
  },
  {
   "cell_type": "code",
   "execution_count": 39,
   "metadata": {},
   "outputs": [
    {
     "ename": "NameError",
     "evalue": "name 'rf_pred' is not defined",
     "output_type": "error",
     "traceback": [
      "\u001b[0;31m---------------------------------------------------------------------------\u001b[0m",
      "\u001b[0;31mNameError\u001b[0m                                 Traceback (most recent call last)",
      "\u001b[1;32m/Users/eric/Desktop/kaggle/spaceship_titanic/space_titanic.ipynb Cell 39'\u001b[0m in \u001b[0;36m<cell line: 1>\u001b[0;34m()\u001b[0m\n\u001b[0;32m----> <a href='vscode-notebook-cell:/Users/eric/Desktop/kaggle/spaceship_titanic/space_titanic.ipynb#ch0000145?line=0'>1</a>\u001b[0m \u001b[39mprint\u001b[39m(precision_score(train_labels, rf_pred))\n\u001b[1;32m      <a href='vscode-notebook-cell:/Users/eric/Desktop/kaggle/spaceship_titanic/space_titanic.ipynb#ch0000145?line=1'>2</a>\u001b[0m \u001b[39mprint\u001b[39m(recall_score(train_labels, rf_pred))\n\u001b[1;32m      <a href='vscode-notebook-cell:/Users/eric/Desktop/kaggle/spaceship_titanic/space_titanic.ipynb#ch0000145?line=2'>3</a>\u001b[0m \u001b[39mprint\u001b[39m(f1_score(train_labels, rf_pred))\n",
      "\u001b[0;31mNameError\u001b[0m: name 'rf_pred' is not defined"
     ]
    }
   ],
   "source": [
    "print(precision_score(train_labels, rf_pred))\n",
    "print(recall_score(train_labels, rf_pred))\n",
    "print(f1_score(train_labels, rf_pred))"
   ]
  },
  {
   "cell_type": "code",
   "execution_count": null,
   "metadata": {},
   "outputs": [
    {
     "name": "stdout",
     "output_type": "stream",
     "text": [
      "0.7973508647207385\n",
      "0.7772303792215052\n"
     ]
    }
   ],
   "source": [
    "from sklearn.metrics import roc_auc_score\n",
    "print(roc_auc_score(train_labels, svm_pred))\n",
    "print(roc_auc_score(train_labels, rf_pred))\n"
   ]
  },
  {
   "cell_type": "code",
   "execution_count": null,
   "metadata": {},
   "outputs": [],
   "source": [
    "test_data = n.transform(test_data)"
   ]
  },
  {
   "cell_type": "code",
   "execution_count": null,
   "metadata": {},
   "outputs": [],
   "source": [
    "test_prepared = full_pipeline.fit_transform(test_data)"
   ]
  },
  {
   "cell_type": "code",
   "execution_count": null,
   "metadata": {},
   "outputs": [
    {
     "data": {
      "text/html": [
       "<style>#sk-container-id-3 {color: black;background-color: white;}#sk-container-id-3 pre{padding: 0;}#sk-container-id-3 div.sk-toggleable {background-color: white;}#sk-container-id-3 label.sk-toggleable__label {cursor: pointer;display: block;width: 100%;margin-bottom: 0;padding: 0.3em;box-sizing: border-box;text-align: center;}#sk-container-id-3 label.sk-toggleable__label-arrow:before {content: \"▸\";float: left;margin-right: 0.25em;color: #696969;}#sk-container-id-3 label.sk-toggleable__label-arrow:hover:before {color: black;}#sk-container-id-3 div.sk-estimator:hover label.sk-toggleable__label-arrow:before {color: black;}#sk-container-id-3 div.sk-toggleable__content {max-height: 0;max-width: 0;overflow: hidden;text-align: left;background-color: #f0f8ff;}#sk-container-id-3 div.sk-toggleable__content pre {margin: 0.2em;color: black;border-radius: 0.25em;background-color: #f0f8ff;}#sk-container-id-3 input.sk-toggleable__control:checked~div.sk-toggleable__content {max-height: 200px;max-width: 100%;overflow: auto;}#sk-container-id-3 input.sk-toggleable__control:checked~label.sk-toggleable__label-arrow:before {content: \"▾\";}#sk-container-id-3 div.sk-estimator input.sk-toggleable__control:checked~label.sk-toggleable__label {background-color: #d4ebff;}#sk-container-id-3 div.sk-label input.sk-toggleable__control:checked~label.sk-toggleable__label {background-color: #d4ebff;}#sk-container-id-3 input.sk-hidden--visually {border: 0;clip: rect(1px 1px 1px 1px);clip: rect(1px, 1px, 1px, 1px);height: 1px;margin: -1px;overflow: hidden;padding: 0;position: absolute;width: 1px;}#sk-container-id-3 div.sk-estimator {font-family: monospace;background-color: #f0f8ff;border: 1px dotted black;border-radius: 0.25em;box-sizing: border-box;margin-bottom: 0.5em;}#sk-container-id-3 div.sk-estimator:hover {background-color: #d4ebff;}#sk-container-id-3 div.sk-parallel-item::after {content: \"\";width: 100%;border-bottom: 1px solid gray;flex-grow: 1;}#sk-container-id-3 div.sk-label:hover label.sk-toggleable__label {background-color: #d4ebff;}#sk-container-id-3 div.sk-serial::before {content: \"\";position: absolute;border-left: 1px solid gray;box-sizing: border-box;top: 0;bottom: 0;left: 50%;z-index: 0;}#sk-container-id-3 div.sk-serial {display: flex;flex-direction: column;align-items: center;background-color: white;padding-right: 0.2em;padding-left: 0.2em;position: relative;}#sk-container-id-3 div.sk-item {position: relative;z-index: 1;}#sk-container-id-3 div.sk-parallel {display: flex;align-items: stretch;justify-content: center;background-color: white;position: relative;}#sk-container-id-3 div.sk-item::before, #sk-container-id-3 div.sk-parallel-item::before {content: \"\";position: absolute;border-left: 1px solid gray;box-sizing: border-box;top: 0;bottom: 0;left: 50%;z-index: -1;}#sk-container-id-3 div.sk-parallel-item {display: flex;flex-direction: column;z-index: 1;position: relative;background-color: white;}#sk-container-id-3 div.sk-parallel-item:first-child::after {align-self: flex-end;width: 50%;}#sk-container-id-3 div.sk-parallel-item:last-child::after {align-self: flex-start;width: 50%;}#sk-container-id-3 div.sk-parallel-item:only-child::after {width: 0;}#sk-container-id-3 div.sk-dashed-wrapped {border: 1px dashed gray;margin: 0 0.4em 0.5em 0.4em;box-sizing: border-box;padding-bottom: 0.4em;background-color: white;}#sk-container-id-3 div.sk-label label {font-family: monospace;font-weight: bold;display: inline-block;line-height: 1.2em;}#sk-container-id-3 div.sk-label-container {text-align: center;}#sk-container-id-3 div.sk-container {/* jupyter's `normalize.less` sets `[hidden] { display: none; }` but bootstrap.min.css set `[hidden] { display: none !important; }` so we also need the `!important` here to be able to override the default hidden behavior on the sphinx rendered scikit-learn.org. See: https://github.com/scikit-learn/scikit-learn/issues/21755 */display: inline-block !important;position: relative;}#sk-container-id-3 div.sk-text-repr-fallback {display: none;}</style><div id=\"sk-container-id-3\" class=\"sk-top-container\"><div class=\"sk-text-repr-fallback\"><pre>SVC(C=1.5)</pre><b>In a Jupyter environment, please rerun this cell to show the HTML representation or trust the notebook. <br />On GitHub, the HTML representation is unable to render, please try loading this page with nbviewer.org.</b></div><div class=\"sk-container\" hidden><div class=\"sk-item\"><div class=\"sk-estimator sk-toggleable\"><input class=\"sk-toggleable__control sk-hidden--visually\" id=\"sk-estimator-id-5\" type=\"checkbox\" checked><label for=\"sk-estimator-id-5\" class=\"sk-toggleable__label sk-toggleable__label-arrow\">SVC</label><div class=\"sk-toggleable__content\"><pre>SVC(C=1.5)</pre></div></div></div></div></div>"
      ],
      "text/plain": [
       "SVC(C=1.5)"
      ]
     },
     "execution_count": 45,
     "metadata": {},
     "output_type": "execute_result"
    }
   ],
   "source": [
    "svm_clf.fit(model_prepared, train_labels)"
   ]
  },
  {
   "cell_type": "code",
   "execution_count": null,
   "metadata": {},
   "outputs": [
    {
     "name": "stdout",
     "output_type": "stream",
     "text": [
      "Counter({True: 2214, False: 2063})\n"
     ]
    }
   ],
   "source": [
    "result = linear.predict(test_prepared)\n",
    "print(Counter(result))"
   ]
  },
  {
   "cell_type": "code",
   "execution_count": null,
   "metadata": {},
   "outputs": [],
   "source": [
    "submission = pd.DataFrame()\n",
    "submission.insert(0, 'PassengerId', final_index)\n",
    "submission.insert(1, 'Transported', result)"
   ]
  },
  {
   "cell_type": "code",
   "execution_count": null,
   "metadata": {},
   "outputs": [],
   "source": [
    "submission.to_csv('answers3.csv', index=False)"
   ]
  }
 ],
 "metadata": {
  "kernelspec": {
   "display_name": "Python 3.10.4 ('geron')",
   "language": "python",
   "name": "python3"
  },
  "language_info": {
   "codemirror_mode": {
    "name": "ipython",
    "version": 3
   },
   "file_extension": ".py",
   "mimetype": "text/x-python",
   "name": "python",
   "nbconvert_exporter": "python",
   "pygments_lexer": "ipython3",
   "version": "3.10.4"
  },
  "orig_nbformat": 4,
  "vscode": {
   "interpreter": {
    "hash": "8709218f6286f511ff943a1bd7df2f30eb14d061b6fdb338cafb7c95f51dcfeb"
   }
  }
 },
 "nbformat": 4,
 "nbformat_minor": 2
}
