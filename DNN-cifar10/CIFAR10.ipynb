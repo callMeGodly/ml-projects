{
 "cells": [
  {
   "cell_type": "code",
   "execution_count": 1,
   "metadata": {},
   "outputs": [],
   "source": [
    "import tensorflow as tf\n",
    "from tensorflow import keras\n",
    "import numpy as np\n",
    "import matplotlib.pyplot as plt\n",
    "import pandas as pd"
   ]
  },
  {
   "cell_type": "code",
   "execution_count": 2,
   "metadata": {},
   "outputs": [],
   "source": [
    "keras.backend.clear_session()\n",
    "tf.random.set_seed(42)\n",
    "np.random.seed(42)"
   ]
  },
  {
   "cell_type": "code",
   "execution_count": 3,
   "metadata": {},
   "outputs": [
    {
     "name": "stdout",
     "output_type": "stream",
     "text": [
      "Metal device set to: Apple M1 Pro\n",
      "\n",
      "systemMemory: 16.00 GB\n",
      "maxCacheSize: 5.33 GB\n",
      "\n"
     ]
    },
    {
     "name": "stderr",
     "output_type": "stream",
     "text": [
      "2022-07-19 22:10:40.676709: I tensorflow/core/common_runtime/pluggable_device/pluggable_device_factory.cc:305] Could not identify NUMA node of platform GPU ID 0, defaulting to 0. Your kernel may not have been built with NUMA support.\n",
      "2022-07-19 22:10:40.676875: I tensorflow/core/common_runtime/pluggable_device/pluggable_device_factory.cc:271] Created TensorFlow device (/job:localhost/replica:0/task:0/device:GPU:0 with 0 MB memory) -> physical PluggableDevice (device: 0, name: METAL, pci bus id: <undefined>)\n"
     ]
    }
   ],
   "source": [
    "from functools import partial\n",
    "\n",
    "layer = partial(keras.layers.Dense, activation='elu', kernel_initializer='he_normal')\n",
    "\n",
    "model = keras.models.Sequential()\n",
    "model.add(keras.layers.Flatten(input_shape=[32,32,3]))\n",
    "for i in range(20):\n",
    "    model.add(layer(100))"
   ]
  },
  {
   "cell_type": "code",
   "execution_count": 4,
   "metadata": {},
   "outputs": [],
   "source": [
    "train, test = keras.datasets.cifar10.load_data()"
   ]
  },
  {
   "cell_type": "code",
   "execution_count": 14,
   "metadata": {},
   "outputs": [],
   "source": [
    "X_train_full = train[0]\n",
    "X_test = test[0]\n",
    "y_train_full = train[1]\n",
    "y_test  = test[1]"
   ]
  },
  {
   "cell_type": "code",
   "execution_count": 6,
   "metadata": {},
   "outputs": [],
   "source": [
    "import tensorboard\n",
    "import os\n",
    "\n",
    "\n",
    "optimizer = keras.optimizers.Nadam(learning_rate=5e-5)\n",
    "early_stopping = keras.callbacks.EarlyStopping(patience=20, restore_best_weights=True)\n",
    "checkpoint_cb = keras.callbacks.ModelCheckpoint('best_cifar_model.h5', save_best_only=True)\n",
    "run_index = 1 # increment every time you train the model\n",
    "if not os.path.isdir('my_cifar10_logs'):\n",
    "    os.makedirs(os.path.join(os.curdir, 'my_cifar10_logs'))\n",
    "\n",
    "run_logdir = os.path.join(os.curdir, \"my_cifar10_logs\", \"run_{:03d}\".format(run_index))\n",
    "tensorboard_cb = keras.callbacks.TensorBoard()\n",
    "model.add(keras.layers.Dense(10, activation='softmax', kernel_initializer='glorot_normal'))"
   ]
  },
  {
   "cell_type": "code",
   "execution_count": 7,
   "metadata": {},
   "outputs": [],
   "source": [
    "from sklearn.model_selection import train_test_split\n",
    "X_train, X_val, y_train, y_val = train_test_split(X_train_full, y_train_full, test_size=5000)"
   ]
  },
  {
   "cell_type": "code",
   "execution_count": 8,
   "metadata": {},
   "outputs": [],
   "source": [
    "model.compile(loss='sparse_categorical_crossentropy', optimizer=optimizer, metrics=['accuracy'])"
   ]
  },
  {
   "cell_type": "code",
   "execution_count": 9,
   "metadata": {},
   "outputs": [],
   "source": [
    "model = keras.models.load_model('best_cifar_model.h5')"
   ]
  },
  {
   "cell_type": "code",
   "execution_count": 10,
   "metadata": {},
   "outputs": [
    {
     "name": "stdout",
     "output_type": "stream",
     "text": [
      "Epoch 1/10\n"
     ]
    },
    {
     "name": "stderr",
     "output_type": "stream",
     "text": [
      "2022-07-19 22:10:42.107354: W tensorflow/core/platform/profile_utils/cpu_utils.cc:128] Failed to get CPU frequency: 0 Hz\n",
      "2022-07-19 22:10:42.730970: I tensorflow/core/grappler/optimizers/custom_graph_optimizer_registry.cc:113] Plugin optimizer for device_type GPU is enabled.\n"
     ]
    },
    {
     "name": "stdout",
     "output_type": "stream",
     "text": [
      "1407/1407 [==============================] - ETA: 0s - loss: 1.6474 - accuracy: 0.4015"
     ]
    },
    {
     "name": "stderr",
     "output_type": "stream",
     "text": [
      "2022-07-19 22:11:54.410179: I tensorflow/core/grappler/optimizers/custom_graph_optimizer_registry.cc:113] Plugin optimizer for device_type GPU is enabled.\n"
     ]
    },
    {
     "name": "stdout",
     "output_type": "stream",
     "text": [
      "1407/1407 [==============================] - 75s 52ms/step - loss: 1.6474 - accuracy: 0.4015 - val_loss: 1.6766 - val_accuracy: 0.3974\n",
      "Epoch 2/10\n",
      "1407/1407 [==============================] - 73s 52ms/step - loss: 1.6185 - accuracy: 0.4111 - val_loss: 1.6730 - val_accuracy: 0.3948\n",
      "Epoch 3/10\n",
      "1407/1407 [==============================] - 74s 52ms/step - loss: 1.5951 - accuracy: 0.4208 - val_loss: 1.6988 - val_accuracy: 0.3780\n",
      "Epoch 4/10\n",
      "1407/1407 [==============================] - 73s 52ms/step - loss: 1.5734 - accuracy: 0.4303 - val_loss: 1.6771 - val_accuracy: 0.3930\n",
      "Epoch 5/10\n",
      "1407/1407 [==============================] - 72s 51ms/step - loss: 1.5561 - accuracy: 0.4360 - val_loss: 1.6212 - val_accuracy: 0.4154\n",
      "Epoch 6/10\n",
      "1407/1407 [==============================] - 76s 54ms/step - loss: 1.5371 - accuracy: 0.4426 - val_loss: 1.6148 - val_accuracy: 0.4144\n",
      "Epoch 7/10\n",
      "1407/1407 [==============================] - 80s 57ms/step - loss: 1.5200 - accuracy: 0.4501 - val_loss: 1.6295 - val_accuracy: 0.4190\n",
      "Epoch 8/10\n",
      "1407/1407 [==============================] - 75s 53ms/step - loss: 1.5075 - accuracy: 0.4580 - val_loss: 1.6517 - val_accuracy: 0.4054\n",
      "Epoch 9/10\n",
      "1407/1407 [==============================] - 76s 54ms/step - loss: 1.4927 - accuracy: 0.4618 - val_loss: 1.6165 - val_accuracy: 0.4310\n",
      "Epoch 10/10\n",
      "1407/1407 [==============================] - 76s 54ms/step - loss: 1.4780 - accuracy: 0.4689 - val_loss: 1.5880 - val_accuracy: 0.4414\n"
     ]
    },
    {
     "data": {
      "text/plain": [
       "<keras.callbacks.History at 0x2d71f71c0>"
      ]
     },
     "execution_count": 10,
     "metadata": {},
     "output_type": "execute_result"
    }
   ],
   "source": [
    "model.fit(X_train, y_train, epochs=10, validation_data=([X_val, y_val]), callbacks=[early_stopping, checkpoint_cb, tensorboard_cb])"
   ]
  },
  {
   "cell_type": "code",
   "execution_count": 15,
   "metadata": {},
   "outputs": [
    {
     "name": "stdout",
     "output_type": "stream",
     "text": [
      "  3/313 [..............................] - ETA: 8s - loss: 1.5004 - accuracy: 0.4896  "
     ]
    },
    {
     "name": "stderr",
     "output_type": "stream",
     "text": [
      "2022-07-19 22:24:11.798167: I tensorflow/core/grappler/optimizers/custom_graph_optimizer_registry.cc:113] Plugin optimizer for device_type GPU is enabled.\n"
     ]
    },
    {
     "name": "stdout",
     "output_type": "stream",
     "text": [
      "313/313 [==============================] - 6s 18ms/step - loss: 1.5533 - accuracy: 0.4388\n"
     ]
    },
    {
     "data": {
      "text/plain": [
       "[1.5533194541931152, 0.43880000710487366]"
      ]
     },
     "execution_count": 15,
     "metadata": {},
     "output_type": "execute_result"
    }
   ],
   "source": [
    "model = keras.models.load_model(\"best_cifar_model.h5\")\n",
    "model.evaluate(X_test, y_test)"
   ]
  },
  {
   "cell_type": "code",
   "execution_count": 16,
   "metadata": {},
   "outputs": [],
   "source": [
    "keras.backend.clear_session()\n",
    "tf.random.set_seed(42)\n",
    "np.random.seed(42)"
   ]
  },
  {
   "cell_type": "code",
   "execution_count": 19,
   "metadata": {},
   "outputs": [],
   "source": [
    "model = keras.models.Sequential()\n",
    "model.add(keras.layers.Flatten(input_shape=[32,32,3]))\n",
    "model.add(keras.layers.BatchNormalization())\n",
    "for i in range(20):\n",
    "    model.add(keras.layers.Dense(100, kernel_initializer='he_normal'))\n",
    "    model.add(keras.layers.BatchNormalization())\n",
    "    model.add(keras.layers.Activation('elu'))\n",
    "model.add(keras.layers.Dense(10, activation='softmax', kernel_initializer='glorot_normal'))"
   ]
  },
  {
   "cell_type": "code",
   "execution_count": 20,
   "metadata": {},
   "outputs": [],
   "source": [
    "optimizer = keras.optimizers.Nadam(learning_rate=5e-5)\n",
    "early_stopping = keras.callbacks.EarlyStopping(patience=20, restore_best_weights=True)\n",
    "checkpoint_cb = keras.callbacks.ModelCheckpoint('best_cifar_model.h5', save_best_only=True)\n",
    "run_index = 2 # increment every time you train the model\n",
    "if not os.path.isdir('my_cifar10_logs'):\n",
    "    os.makedirs(os.path.join(os.curdir, 'my_cifar10_logs'))\n",
    "\n",
    "run_logdir = os.path.join(os.curdir, \"my_cifar10_logs\", \"run_{:03d}\".format(run_index))\n",
    "tensorboard_cb = keras.callbacks.TensorBoard()\n",
    "model.add(keras.layers.Dense(10, activation='softmax', kernel_initializer='glorot_normal'))"
   ]
  },
  {
   "cell_type": "code",
   "execution_count": 21,
   "metadata": {},
   "outputs": [],
   "source": [
    "model.compile(loss='sparse_categorical_crossentropy', optimizer=optimizer, metrics=['accuracy'])"
   ]
  },
  {
   "cell_type": "code",
   "execution_count": 22,
   "metadata": {},
   "outputs": [
    {
     "name": "stdout",
     "output_type": "stream",
     "text": [
      "Epoch 1/10\n"
     ]
    },
    {
     "name": "stderr",
     "output_type": "stream",
     "text": [
      "2022-07-19 22:27:16.433369: I tensorflow/core/grappler/optimizers/custom_graph_optimizer_registry.cc:113] Plugin optimizer for device_type GPU is enabled.\n"
     ]
    },
    {
     "name": "stdout",
     "output_type": "stream",
     "text": [
      "1407/1407 [==============================] - ETA: 0s - loss: 2.2013 - accuracy: 0.2181"
     ]
    },
    {
     "name": "stderr",
     "output_type": "stream",
     "text": [
      "2022-07-19 22:29:51.207221: I tensorflow/core/grappler/optimizers/custom_graph_optimizer_registry.cc:113] Plugin optimizer for device_type GPU is enabled.\n"
     ]
    },
    {
     "name": "stdout",
     "output_type": "stream",
     "text": [
      "1407/1407 [==============================] - 163s 110ms/step - loss: 2.2013 - accuracy: 0.2181 - val_loss: 2.1426 - val_accuracy: 0.2840\n",
      "Epoch 2/10\n",
      "1407/1407 [==============================] - 153s 109ms/step - loss: 2.1285 - accuracy: 0.2846 - val_loss: 2.1005 - val_accuracy: 0.3368\n",
      "Epoch 3/10\n",
      "1407/1407 [==============================] - 153s 109ms/step - loss: 2.0937 - accuracy: 0.3244 - val_loss: 2.0726 - val_accuracy: 0.3436\n",
      "Epoch 4/10\n",
      "1407/1407 [==============================] - 151s 107ms/step - loss: 2.0646 - accuracy: 0.3403 - val_loss: 2.0466 - val_accuracy: 0.3562\n",
      "Epoch 5/10\n",
      "1407/1407 [==============================] - 151s 107ms/step - loss: 2.0360 - accuracy: 0.3503 - val_loss: 2.0187 - val_accuracy: 0.3638\n",
      "Epoch 6/10\n",
      "1407/1407 [==============================] - 155s 110ms/step - loss: 2.0102 - accuracy: 0.3580 - val_loss: 1.9923 - val_accuracy: 0.3722\n",
      "Epoch 7/10\n",
      "1407/1407 [==============================] - 148s 105ms/step - loss: 1.9848 - accuracy: 0.3606 - val_loss: 1.9741 - val_accuracy: 0.3688\n",
      "Epoch 8/10\n",
      "1407/1407 [==============================] - 146s 104ms/step - loss: 1.9635 - accuracy: 0.3679 - val_loss: 1.9477 - val_accuracy: 0.3758\n",
      "Epoch 9/10\n",
      "1407/1407 [==============================] - 148s 105ms/step - loss: 1.9398 - accuracy: 0.3770 - val_loss: 1.9299 - val_accuracy: 0.3782\n",
      "Epoch 10/10\n",
      "1407/1407 [==============================] - 144s 103ms/step - loss: 1.9180 - accuracy: 0.3822 - val_loss: 1.9075 - val_accuracy: 0.3842\n"
     ]
    },
    {
     "data": {
      "text/plain": [
       "<keras.callbacks.History at 0x2dc3bc6d0>"
      ]
     },
     "execution_count": 22,
     "metadata": {},
     "output_type": "execute_result"
    }
   ],
   "source": [
    "model.fit(X_train, y_train, epochs = 10, validation_data=(X_val, y_val), callbacks=[early_stopping, checkpoint_cb, tensorboard_cb])"
   ]
  },
  {
   "cell_type": "code",
   "execution_count": 23,
   "metadata": {},
   "outputs": [
    {
     "name": "stderr",
     "output_type": "stream",
     "text": [
      "2022-07-19 22:52:26.097827: I tensorflow/core/grappler/optimizers/custom_graph_optimizer_registry.cc:113] Plugin optimizer for device_type GPU is enabled.\n"
     ]
    },
    {
     "name": "stdout",
     "output_type": "stream",
     "text": [
      "313/313 [==============================] - 9s 25ms/step - loss: 1.8940 - accuracy: 0.3907\n"
     ]
    },
    {
     "data": {
      "text/plain": [
       "[1.8940443992614746, 0.39070001244544983]"
      ]
     },
     "execution_count": 23,
     "metadata": {},
     "output_type": "execute_result"
    }
   ],
   "source": [
    "model = keras.models.load_model(\"best_cifar_model.h5\")\n",
    "model.evaluate(X_test, y_test)"
   ]
  },
  {
   "cell_type": "code",
   "execution_count": 25,
   "metadata": {},
   "outputs": [],
   "source": [
    "keras.backend.clear_session()\n",
    "tf.random.set_seed(42)\n",
    "np.random.seed(42)"
   ]
  },
  {
   "cell_type": "code",
   "execution_count": 28,
   "metadata": {},
   "outputs": [],
   "source": [
    "from sklearn import metrics\n",
    "\n",
    "model = keras.models.Sequential()\n",
    "model.add(keras.layers.Flatten(input_shape=[32,32,3]))\n",
    "for i in range(20):\n",
    "    model.add(keras.layers.Dense(100, activation='selu', kernel_initializer='lecun_normal'))\n",
    "model.add(keras.layers.Dense(10, activation='softmax', kernel_initializer='glorot_normal'))\n",
    "\n",
    "optimizer = keras.optimizers.Nadam(learning_rate=7e-4)\n",
    "model.compile(loss='sparse_categorical_crossentropy', metrics=['accuracy'], optimizer=optimizer)\n",
    "\n",
    "early_stopping = keras.callbacks.EarlyStopping(patience=20, restore_best_weights=True)\n",
    "checkpoint_cb = keras.callbacks.ModelCheckpoint('best_selu_cifar_model.h5', save_best_only=True)\n",
    "run_index = 3 # increment every time you train the model\n",
    "if not os.path.isdir('my_cifar10_logs'):\n",
    "    os.makedirs(os.path.join(os.curdir, 'my_cifar10_logs'))\n",
    "\n",
    "run_logdir = os.path.join(os.curdir, \"my_cifar10_logs\", \"run_{:03d}\".format(run_index))\n",
    "tensorboard_cb = keras.callbacks.TensorBoard()"
   ]
  },
  {
   "cell_type": "code",
   "execution_count": 29,
   "metadata": {},
   "outputs": [],
   "source": [
    "X_means = X_train.mean(axis=0)\n",
    "X_stds = X_train.std(axis=0)\n",
    "X_train_scaled = (X_train - X_means) / X_stds\n",
    "X_valid_scaled = (X_val - X_means) / X_stds\n",
    "X_test_scaled = (X_test - X_means) / X_stds"
   ]
  },
  {
   "cell_type": "code",
   "execution_count": 30,
   "metadata": {},
   "outputs": [
    {
     "name": "stdout",
     "output_type": "stream",
     "text": [
      "Epoch 1/10\n"
     ]
    },
    {
     "name": "stderr",
     "output_type": "stream",
     "text": [
      "2022-07-19 22:56:43.726597: I tensorflow/core/grappler/optimizers/custom_graph_optimizer_registry.cc:113] Plugin optimizer for device_type GPU is enabled.\n"
     ]
    },
    {
     "name": "stdout",
     "output_type": "stream",
     "text": [
      "1407/1407 [==============================] - ETA: 0s - loss: 1.9252 - accuracy: 0.3125"
     ]
    },
    {
     "name": "stderr",
     "output_type": "stream",
     "text": [
      "2022-07-19 22:58:03.217217: I tensorflow/core/grappler/optimizers/custom_graph_optimizer_registry.cc:113] Plugin optimizer for device_type GPU is enabled.\n"
     ]
    },
    {
     "name": "stdout",
     "output_type": "stream",
     "text": [
      "1407/1407 [==============================] - 84s 57ms/step - loss: 1.9252 - accuracy: 0.3125 - val_loss: 1.8325 - val_accuracy: 0.3280\n",
      "Epoch 2/10\n",
      "1407/1407 [==============================] - 77s 55ms/step - loss: 1.7059 - accuracy: 0.3911 - val_loss: 1.7202 - val_accuracy: 0.3868\n",
      "Epoch 3/10\n",
      "1407/1407 [==============================] - 74s 52ms/step - loss: 1.6121 - accuracy: 0.4312 - val_loss: 1.6408 - val_accuracy: 0.3942\n",
      "Epoch 4/10\n",
      "1407/1407 [==============================] - 72s 51ms/step - loss: 1.5492 - accuracy: 0.4536 - val_loss: 1.5583 - val_accuracy: 0.4542\n",
      "Epoch 5/10\n",
      "1407/1407 [==============================] - 75s 53ms/step - loss: 1.4878 - accuracy: 0.4774 - val_loss: 1.5626 - val_accuracy: 0.4516\n",
      "Epoch 6/10\n",
      "1407/1407 [==============================] - 71s 50ms/step - loss: 1.4432 - accuracy: 0.4945 - val_loss: 1.4393 - val_accuracy: 0.4884\n",
      "Epoch 7/10\n",
      "1407/1407 [==============================] - 73s 52ms/step - loss: 1.4024 - accuracy: 0.5077 - val_loss: 1.3801 - val_accuracy: 0.5090\n",
      "Epoch 8/10\n",
      "1407/1407 [==============================] - 74s 52ms/step - loss: 1.3621 - accuracy: 0.5225 - val_loss: 1.3112 - val_accuracy: 0.5504\n",
      "Epoch 9/10\n",
      "1407/1407 [==============================] - 71s 50ms/step - loss: 1.3285 - accuracy: 0.5384 - val_loss: 1.2998 - val_accuracy: 0.5386\n",
      "Epoch 10/10\n",
      "1407/1407 [==============================] - 75s 53ms/step - loss: 1.2939 - accuracy: 0.5498 - val_loss: 1.3003 - val_accuracy: 0.5542\n"
     ]
    },
    {
     "data": {
      "text/plain": [
       "<keras.callbacks.History at 0x2cdc94e80>"
      ]
     },
     "execution_count": 30,
     "metadata": {},
     "output_type": "execute_result"
    }
   ],
   "source": [
    "model.fit(X_train_scaled, y_train, epochs=10, validation_data=([X_valid_scaled, y_val]), callbacks=[early_stopping, tensorboard_cb, checkpoint_cb])"
   ]
  },
  {
   "cell_type": "code",
   "execution_count": 31,
   "metadata": {},
   "outputs": [
    {
     "name": "stdout",
     "output_type": "stream",
     "text": [
      "  1/313 [..............................] - ETA: 1:26 - loss: 1.1065 - accuracy: 0.5938"
     ]
    },
    {
     "name": "stderr",
     "output_type": "stream",
     "text": [
      "2022-07-19 23:09:07.499357: I tensorflow/core/grappler/optimizers/custom_graph_optimizer_registry.cc:113] Plugin optimizer for device_type GPU is enabled.\n"
     ]
    },
    {
     "name": "stdout",
     "output_type": "stream",
     "text": [
      "313/313 [==============================] - 6s 19ms/step - loss: 1.4750 - accuracy: 0.4817\n"
     ]
    },
    {
     "data": {
      "text/plain": [
       "[1.4749805927276611, 0.48170003294944763]"
      ]
     },
     "execution_count": 31,
     "metadata": {},
     "output_type": "execute_result"
    }
   ],
   "source": [
    "model = keras.models.load_model(\"best_selu_cifar_model.h5\")\n",
    "model.evaluate(X_test_scaled, y_test)"
   ]
  },
  {
   "cell_type": "code",
   "execution_count": 33,
   "metadata": {},
   "outputs": [],
   "source": [
    "keras.backend.clear_session()\n",
    "tf.random.set_seed(42)\n",
    "np.random.seed(42)\n",
    "\n",
    "model = keras.models.Sequential()\n",
    "model.add(keras.layers.Flatten(input_shape=[32,32,3]))\n",
    "for i in range(20):\n",
    "    model.add(keras.layers.Dense(100, activation='selu', kernel_initializer='lecun_normal'))\n",
    "model.add(keras.layers.AlphaDropout(rate=0.1))\n",
    "model.add(keras.layers.Dense(10, activation='softmax', kernel_initializer='glorot_normal'))\n",
    "\n",
    "optimizer = keras.optimizers.Nadam(learning_rate=7e-4)\n",
    "model.compile(loss='sparse_categorical_crossentropy', metrics=['accuracy'], optimizer=optimizer)\n",
    "\n",
    "early_stopping = keras.callbacks.EarlyStopping(patience=20, restore_best_weights=True)\n",
    "checkpoint_cb = keras.callbacks.ModelCheckpoint('best_selu_alpha_dropout_cifar_model.h5', save_best_only=True)\n",
    "run_index = 4 # increment every time you train the model\n",
    "if not os.path.isdir('my_cifar10_logs'):\n",
    "    os.makedirs(os.path.join(os.curdir, 'my_cifar10_logs'))\n",
    "\n",
    "run_logdir = os.path.join(os.curdir, \"my_cifar10_logs\", \"run_{:03d}\".format(run_index))\n",
    "tensorboard_cb = keras.callbacks.TensorBoard()\n",
    "\n",
    "X_means = X_train.mean(axis=0)\n",
    "X_stds = X_train.std(axis=0)\n",
    "X_train_scaled = (X_train - X_means) / X_stds\n",
    "X_valid_scaled = (X_val - X_means) / X_stds\n",
    "X_test_scaled = (X_test - X_means) / X_stds"
   ]
  },
  {
   "cell_type": "code",
   "execution_count": 34,
   "metadata": {},
   "outputs": [
    {
     "name": "stdout",
     "output_type": "stream",
     "text": [
      "Epoch 1/10\n"
     ]
    },
    {
     "name": "stderr",
     "output_type": "stream",
     "text": [
      "2022-07-19 23:09:33.786841: I tensorflow/core/grappler/optimizers/custom_graph_optimizer_registry.cc:113] Plugin optimizer for device_type GPU is enabled.\n"
     ]
    },
    {
     "name": "stdout",
     "output_type": "stream",
     "text": [
      "1407/1407 [==============================] - ETA: 0s - loss: 1.9154 - accuracy: 0.3121"
     ]
    },
    {
     "name": "stderr",
     "output_type": "stream",
     "text": [
      "2022-07-19 23:10:48.282010: I tensorflow/core/grappler/optimizers/custom_graph_optimizer_registry.cc:113] Plugin optimizer for device_type GPU is enabled.\n"
     ]
    },
    {
     "name": "stdout",
     "output_type": "stream",
     "text": [
      "1407/1407 [==============================] - 79s 54ms/step - loss: 1.9154 - accuracy: 0.3121 - val_loss: 1.9009 - val_accuracy: 0.3246\n",
      "Epoch 2/10\n",
      "1407/1407 [==============================] - 72s 51ms/step - loss: 1.6951 - accuracy: 0.3979 - val_loss: 1.6570 - val_accuracy: 0.3976\n",
      "Epoch 3/10\n",
      "1407/1407 [==============================] - 71s 50ms/step - loss: 1.6005 - accuracy: 0.4354 - val_loss: 1.5638 - val_accuracy: 0.4602\n",
      "Epoch 4/10\n",
      "1407/1407 [==============================] - 69s 49ms/step - loss: 1.5539 - accuracy: 0.4525 - val_loss: 1.5729 - val_accuracy: 0.4510\n",
      "Epoch 5/10\n",
      " 741/1407 [==============>...............] - ETA: 32s - loss: 1.4821 - accuracy: 0.4814"
     ]
    }
   ],
   "source": [
    "model.fit(X_train_scaled, y_train, epochs=10, validation_data=([X_valid_scaled, y_val]), callbacks=[early_stopping, tensorboard_cb, checkpoint_cb])"
   ]
  },
  {
   "cell_type": "code",
   "execution_count": null,
   "metadata": {},
   "outputs": [],
   "source": [
    "model = model.keras.load_model('best_selu_alpha_dropout_cifar_model.h5')\n",
    "y_probas = np.stack([model(X_test_scaled, training=True)] for sample in range(100))\n",
    "y_proba = y_probas.mean(axis=0)\n",
    "y_pred = np.argmax(y_probas, axis=1)\n",
    "accuracy = np.sum(y_pred == y_test) / len(y_test)"
   ]
  }
 ],
 "metadata": {
  "kernelspec": {
   "display_name": "Python 3.10.4 ('geron')",
   "language": "python",
   "name": "python3"
  },
  "language_info": {
   "codemirror_mode": {
    "name": "ipython",
    "version": 3
   },
   "file_extension": ".py",
   "mimetype": "text/x-python",
   "name": "python",
   "nbconvert_exporter": "python",
   "pygments_lexer": "ipython3",
   "version": "3.10.4"
  },
  "orig_nbformat": 4,
  "vscode": {
   "interpreter": {
    "hash": "8709218f6286f511ff943a1bd7df2f30eb14d061b6fdb338cafb7c95f51dcfeb"
   }
  }
 },
 "nbformat": 4,
 "nbformat_minor": 2
}
