{
 "cells": [
  {
   "cell_type": "code",
   "execution_count": 2,
   "metadata": {},
   "outputs": [],
   "source": [
    "import tensorflow\n",
    "from tensorflow import keras\n",
    "\n",
    "K = keras.backend"
   ]
  },
  {
   "cell_type": "code",
   "execution_count": 3,
   "metadata": {},
   "outputs": [],
   "source": [
    "import math\n",
    "import numpy as np\n",
    "import matplotlib.pyplot as plt\n",
    "\n",
    "# finds the maximum learning rate for 1 cycle scheduling\n",
    "\n",
    "class exponentialLearningRate(keras.callbacks.Callback):\n",
    "    def __init__ (self, factor):\n",
    "        self.rates = []\n",
    "        self.losses = []\n",
    "        self.factor = factor\n",
    "    def on_batch_end(self, batch, logs):\n",
    "        self.rates.append(K.get_value(self.model.optimizer.learning_rate))\n",
    "        self.losses.append(logs[\"loss\"])\n",
    "        K.set_value(self.model.optimizer.learning_rate, self.model.optimizer.learning_rate * self.factor)\n",
    "\n",
    "def findLearningRate(model, X, y, epochs=1, batch_size=32, min_rate=1e-5, max_rate=10):\n",
    "    init_weights = model.get_weights()\n",
    "    iterations = math.ceil(len(X) / batch_size) * epochs\n",
    "    factor = np.exp(np.log(max_rate / min_rate) / iterations)\n",
    "    init_lr = K.get_value(model.optimizer.learning_rate)\n",
    "    K.set_value(model.optimizer.learning_rate, min_rate)\n",
    "    elr = exponentialLearningRate(factor)\n",
    "    history = model.fit(X, y, epochs=epochs, batch_size=batch_size,\n",
    "                        callbacks=[elr])\n",
    "    K.set_value(model.optimizer.learning_rate, init_lr)\n",
    "    model.set_weights(init_weights)\n",
    "    return elr.rates, elr.losses\n",
    "\n",
    "def plotCurves(rates, losses):\n",
    "    plt.figure(figsize=[13,13])\n",
    "    plt.gca().set_xscale('log')\n",
    "    plt.plot(rates, losses)\n",
    "    plt.xlabel('learning_rate')\n",
    "    plt.y_label('losses')\n",
    "    plt.hlines(min(losses), min(rates), max(rates))\n",
    "    plt.axis([min(rates), max(rates), min(losses), (losses[0] + min(losses)) / 2])"
   ]
  },
  {
   "cell_type": "code",
   "execution_count": 4,
   "metadata": {},
   "outputs": [],
   "source": [
    "# 1-cycle scheduling class, updates LR as a on_batch_start callback, in other words update LR before the start of a new epoch\n",
    "\n",
    "class one_cycle(keras.callbacks.Callback):\n",
    "    def __init__(self, max_rate, init_rate=None, iterations=None, last_iterations=None, last_rate=None):\n",
    "        self.iterations = iterations\n",
    "        self.max_rate = max_rate\n",
    "        self.init_rate = init_rate or max_rate / 10\n",
    "        self.last_iterations = last_iterations or iterations // 10 + 1\n",
    "        self.half_iteration = (iterations - self.last_iterations) // 2\n",
    "        self.last_rate = last_rate or self.init_rate / 1000\n",
    "        self.iteration = 0\n",
    "    def _interpolate(self, iter1, iter2, rate1, rate2):\n",
    "        return ((rate2 - rate1) * (self.iteration - iter1) / (iter2 - iter1) + rate1)\n",
    "    def on_batch_begin(self, batch, logs):\n",
    "\n",
    "        if self.iterations < self.half_iteration: # for the first half of scheduling\n",
    "            rate = self._interpolate(0, self.half_iteration, self.init_rate, self.max_rate)\n",
    "        elif self.iterations < 2 * self.half_iteration: # for the second half of scheduling\n",
    "            rate = self._interpolate(self.half_iteration, 2*self.half_iteration, self.init_rate, self.max_rate)\n",
    "        else: # for the final few epochs with maximum value\n",
    "            rate = self._interpolate(self.half_iteration*2, self.iterations, self.init_rate, self.max_rate)\n",
    "        \n",
    "        self.iterations += 1\n",
    "        K.set_value(self.model.optimizer.learning_rate, rate)\n"
   ]
  }
 ],
 "metadata": {
  "kernelspec": {
   "display_name": "Python 3.10.4 ('geron')",
   "language": "python",
   "name": "python3"
  },
  "language_info": {
   "codemirror_mode": {
    "name": "ipython",
    "version": 3
   },
   "file_extension": ".py",
   "mimetype": "text/x-python",
   "name": "python",
   "nbconvert_exporter": "python",
   "pygments_lexer": "ipython3",
   "version": "3.10.4"
  },
  "orig_nbformat": 4,
  "vscode": {
   "interpreter": {
    "hash": "8709218f6286f511ff943a1bd7df2f30eb14d061b6fdb338cafb7c95f51dcfeb"
   }
  }
 },
 "nbformat": 4,
 "nbformat_minor": 2
}
