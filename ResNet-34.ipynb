{
 "cells": [
  {
   "cell_type": "code",
   "execution_count": 1,
   "metadata": {},
   "outputs": [],
   "source": [
    "import tensorflow as tf\n",
    "from tensorflow import keras"
   ]
  },
  {
   "cell_type": "code",
   "execution_count": 2,
   "metadata": {},
   "outputs": [],
   "source": [
    "class ResidualUnit(keras.layers.Layer):\n",
    "\n",
    "    def __init__ (self, filters, strides=1, activation='relu', **kwargs):\n",
    "        super().__init__(**kwargs)\n",
    "        self.activation = keras.activations.get(activation)\n",
    "        self.main_layers = [\n",
    "            keras.layers.Conv2D(filters, 3, strides=strides, padding='same', use_bias=False),\n",
    "            keras.layers.BatchNormalization(),\n",
    "            self.activation,\n",
    "            keras.layers.Conv2D(filters, 3, strides=1, padding='same', use_bias=False),\n",
    "            keras.layers.BatchNormalization()\n",
    "        ]\n",
    "\n",
    "        self.skip_layers = []\n",
    "\n",
    "        # If stride is greater than 1 we need to reduce the size of the input as well, before we can add it to the output\n",
    "        # of the main layers\n",
    "        if strides > 1 :\n",
    "            self.skip_layers = [\n",
    "                keras.layers.Conv2D(filters, 1, strides=strides, padding='same', use_bias=False),\n",
    "                keras.layers.BatchNormalization()\n",
    "            ]\n",
    "    \n",
    "    def call(self, inputs):\n",
    "        Z = inputs\n",
    "        for layer in self.main_layers:\n",
    "            Z = layer(Z)\n",
    "        skip_Z = inputs\n",
    "        for layer in self.skip_layers:\n",
    "            skip_Z = layer(Z)\n",
    "        \n",
    "        return self.activation(Z + skip_Z)"
   ]
  },
  {
   "cell_type": "code",
   "execution_count": 4,
   "metadata": {},
   "outputs": [
    {
     "name": "stderr",
     "output_type": "stream",
     "text": [
      "2022-07-25 21:10:29.022462: I tensorflow/core/common_runtime/pluggable_device/pluggable_device_factory.cc:305] Could not identify NUMA node of platform GPU ID 0, defaulting to 0. Your kernel may not have been built with NUMA support.\n",
      "2022-07-25 21:10:29.023203: I tensorflow/core/common_runtime/pluggable_device/pluggable_device_factory.cc:271] Created TensorFlow device (/job:localhost/replica:0/task:0/device:GPU:0 with 0 MB memory) -> physical PluggableDevice (device: 0, name: METAL, pci bus id: <undefined>)\n"
     ]
    },
    {
     "name": "stdout",
     "output_type": "stream",
     "text": [
      "Metal device set to: Apple M1 Pro\n",
      "\n",
      "systemMemory: 16.00 GB\n",
      "maxCacheSize: 5.33 GB\n",
      "\n"
     ]
    }
   ],
   "source": [
    "resnet_34 = keras.models.Sequential()\n",
    "\n",
    "resnet_34.add(keras.layers.Conv2D(64, 7, strides=2, padding='same', use_bias=False, input_shape=[224,224,3]))\n",
    "resnet_34.add(keras.layers.BatchNormalization())\n",
    "resnet_34.add(keras.layers.Activation('relu'))\n",
    "resnet_34.add(keras.layers.MaxPool2D(pool_size=3, strides=2, padding='same'))\n",
    "\n",
    "prev_filter = 64\n",
    "for filters in [64] * 3 + [128] * 4 + [256] * 6 + [512] * 3:\n",
    "    strides = 1 if filters == prev_filter else 2 # when switching filter numbers we want to increase the stride to 2\n",
    "    resnet_34.add(ResidualUnit(filters, strides=strides))\n",
    "    prev_filter = filters\n",
    "\n",
    "resnet_34.add(keras.layers.GlobalAveragePooling2D())\n",
    "resnet_34.add(keras.layers.Flatten())\n",
    "resnet_34.add(keras.layers.Dense(1000, activation='softmax')) # ImageNet has 1000 classes"
   ]
  }
 ],
 "metadata": {
  "kernelspec": {
   "display_name": "Python 3.10.4 ('geron')",
   "language": "python",
   "name": "python3"
  },
  "language_info": {
   "codemirror_mode": {
    "name": "ipython",
    "version": 3
   },
   "file_extension": ".py",
   "mimetype": "text/x-python",
   "name": "python",
   "nbconvert_exporter": "python",
   "pygments_lexer": "ipython3",
   "version": "3.10.4"
  },
  "orig_nbformat": 4,
  "vscode": {
   "interpreter": {
    "hash": "8709218f6286f511ff943a1bd7df2f30eb14d061b6fdb338cafb7c95f51dcfeb"
   }
  }
 },
 "nbformat": 4,
 "nbformat_minor": 2
}
